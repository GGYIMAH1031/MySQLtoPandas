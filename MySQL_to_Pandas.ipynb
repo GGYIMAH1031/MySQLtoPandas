{
 "cells": [
  {
   "cell_type": "markdown",
   "metadata": {},
   "source": [
    "# This code is to for connecting to MySQL in Python using the MySQLdb connector.                                                                                                                           "
   ]
  },
  {
   "cell_type": "markdown",
   "metadata": {},
   "source": [
    "# Import all relevant libraries and packages. "
   ]
  },
  {
   "cell_type": "code",
   "execution_count": 1,
   "metadata": {
    "collapsed": true
   },
   "outputs": [],
   "source": [
    "import MySQLdb\n",
    "import pandas as pd\n",
    "import scipy as sp\n",
    "import matplotlib as mtpl"
   ]
  },
  {
   "cell_type": "markdown",
   "metadata": {},
   "source": [
    "# Connect to MySQL from Python"
   ]
  },
  {
   "cell_type": "code",
   "execution_count": 2,
   "metadata": {
    "collapsed": true
   },
   "outputs": [],
   "source": [
    "conn = MySQLdb.connect(host=\"ubuntu\", user=\"root\", passwd=\"Pussinboot5\", db=\"studentinfo\")\n",
    "\n",
    "cursor = conn.cursor()"
   ]
  },
  {
   "cell_type": "markdown",
   "metadata": {},
   "source": [
    "# Run a MySQL Query  using cursor.execute()"
   ]
  },
  {
   "cell_type": "code",
   "execution_count": 3,
   "metadata": {
    "collapsed": true
   },
   "outputs": [],
   "source": [
    "cursor.execute('SELECT *  FROM student');"
   ]
  },
  {
   "cell_type": "code",
   "execution_count": 4,
   "metadata": {
    "collapsed": true
   },
   "outputs": [],
   "source": [
    "# To fetch all results, use cursor.fetchall()"
   ]
  },
  {
   "cell_type": "code",
   "execution_count": 5,
   "metadata": {
    "collapsed": true
   },
   "outputs": [],
   "source": [
    "rows = cursor.fetchall()"
   ]
  },
  {
   "cell_type": "code",
   "execution_count": 6,
   "metadata": {
    "collapsed": true
   },
   "outputs": [],
   "source": [
    "# To fetch results, one at a time, use cursor.fetchone()"
   ]
  },
  {
   "cell_type": "code",
   "execution_count": 7,
   "metadata": {
    "collapsed": true
   },
   "outputs": [],
   "source": [
    "singlerow = cursor.fetchone()"
   ]
  },
  {
   "cell_type": "markdown",
   "metadata": {},
   "source": [
    "# This result shows as a tuple of tuples."
   ]
  },
  {
   "cell_type": "markdown",
   "metadata": {},
   "source": [
    "# But it'll be better to have it as a Pandas DataFrame. So..."
   ]
  },
  {
   "cell_type": "code",
   "execution_count": 8,
   "metadata": {
    "collapsed": true
   },
   "outputs": [],
   "source": [
    "df = pd.DataFrame( [[ij for ij in i] for i in rows] )"
   ]
  },
  {
   "cell_type": "code",
   "execution_count": 9,
   "metadata": {
    "collapsed": false
   },
   "outputs": [
    {
     "data": {
      "text/html": [
       "<div>\n",
       "<table border=\"1\" class=\"dataframe\">\n",
       "  <thead>\n",
       "    <tr style=\"text-align: right;\">\n",
       "      <th></th>\n",
       "      <th>0</th>\n",
       "      <th>1</th>\n",
       "      <th>2</th>\n",
       "      <th>3</th>\n",
       "      <th>4</th>\n",
       "      <th>5</th>\n",
       "      <th>6</th>\n",
       "      <th>7</th>\n",
       "      <th>8</th>\n",
       "      <th>9</th>\n",
       "      <th>10</th>\n",
       "    </tr>\n",
       "  </thead>\n",
       "  <tbody>\n",
       "    <tr>\n",
       "      <th>0</th>\n",
       "      <td>Wedam</td>\n",
       "      <td>Nyaaba</td>\n",
       "      <td>wtnt9@mst.edu</td>\n",
       "      <td>1703 N. Elm St</td>\n",
       "      <td>Rolla</td>\n",
       "      <td>MO</td>\n",
       "      <td>65401</td>\n",
       "      <td>M</td>\n",
       "      <td>2016-08-11 09:37:35</td>\n",
       "      <td>4.5</td>\n",
       "      <td>12449235</td>\n",
       "    </tr>\n",
       "    <tr>\n",
       "      <th>1</th>\n",
       "      <td>Godfred</td>\n",
       "      <td>Gyimah</td>\n",
       "      <td>gsyt7@mst.edu</td>\n",
       "      <td>2017 Forum Dr, Apt G</td>\n",
       "      <td>Rolla</td>\n",
       "      <td>MO</td>\n",
       "      <td>65401</td>\n",
       "      <td>M</td>\n",
       "      <td>2016-08-11 09:20:55</td>\n",
       "      <td>3.5</td>\n",
       "      <td>12449868</td>\n",
       "    </tr>\n",
       "    <tr>\n",
       "      <th>2</th>\n",
       "      <td>Maameyaa</td>\n",
       "      <td>Gyimah</td>\n",
       "      <td>mkayc4@mst.edu</td>\n",
       "      <td>2017 Forum Dr, Apt G</td>\n",
       "      <td>Rolla</td>\n",
       "      <td>MO</td>\n",
       "      <td>65401</td>\n",
       "      <td>F</td>\n",
       "      <td>2016-08-11 07:40:19</td>\n",
       "      <td>2.5</td>\n",
       "      <td>12508338</td>\n",
       "    </tr>\n",
       "  </tbody>\n",
       "</table>\n",
       "</div>"
      ],
      "text/plain": [
       "         0       1               2                     3      4   5      6   \\\n",
       "0     Wedam  Nyaaba   wtnt9@mst.edu        1703 N. Elm St  Rolla  MO  65401   \n",
       "1   Godfred  Gyimah   gsyt7@mst.edu  2017 Forum Dr, Apt G  Rolla  MO  65401   \n",
       "2  Maameyaa  Gyimah  mkayc4@mst.edu  2017 Forum Dr, Apt G  Rolla  MO  65401   \n",
       "\n",
       "  7                   8    9         10  \n",
       "0  M 2016-08-11 09:37:35  4.5  12449235  \n",
       "1  M 2016-08-11 09:20:55  3.5  12449868  \n",
       "2  F 2016-08-11 07:40:19  2.5  12508338  "
      ]
     },
     "execution_count": 9,
     "metadata": {},
     "output_type": "execute_result"
    }
   ],
   "source": [
    "df.head()"
   ]
  },
  {
   "cell_type": "markdown",
   "metadata": {},
   "source": [
    "# Let's try a larger query"
   ]
  },
  {
   "cell_type": "code",
   "execution_count": 10,
   "metadata": {
    "collapsed": false
   },
   "outputs": [
    {
     "data": {
      "text/html": [
       "<div>\n",
       "<table border=\"1\" class=\"dataframe\">\n",
       "  <thead>\n",
       "    <tr style=\"text-align: right;\">\n",
       "      <th></th>\n",
       "      <th>0</th>\n",
       "      <th>1</th>\n",
       "      <th>2</th>\n",
       "      <th>3</th>\n",
       "      <th>4</th>\n",
       "      <th>5</th>\n",
       "      <th>6</th>\n",
       "      <th>7</th>\n",
       "      <th>8</th>\n",
       "      <th>9</th>\n",
       "      <th>10</th>\n",
       "      <th>11</th>\n",
       "      <th>12</th>\n",
       "      <th>13</th>\n",
       "      <th>14</th>\n",
       "      <th>15</th>\n",
       "      <th>16</th>\n",
       "      <th>17</th>\n",
       "      <th>18</th>\n",
       "    </tr>\n",
       "  </thead>\n",
       "  <tbody>\n",
       "    <tr>\n",
       "      <th>0</th>\n",
       "      <td>2016-08-02</td>\n",
       "      <td>Q</td>\n",
       "      <td>15</td>\n",
       "      <td>1</td>\n",
       "      <td>1</td>\n",
       "      <td>12449235</td>\n",
       "      <td>1</td>\n",
       "      <td>94</td>\n",
       "      <td>Wedam</td>\n",
       "      <td>Nyaaba</td>\n",
       "      <td>wtnt9@mst.edu</td>\n",
       "      <td>1703 N. Elm St</td>\n",
       "      <td>Rolla</td>\n",
       "      <td>MO</td>\n",
       "      <td>65401</td>\n",
       "      <td>M</td>\n",
       "      <td>2016-08-11 09:37:35</td>\n",
       "      <td>4.5</td>\n",
       "      <td>12449235</td>\n",
       "    </tr>\n",
       "    <tr>\n",
       "      <th>1</th>\n",
       "      <td>2016-08-02</td>\n",
       "      <td>Q</td>\n",
       "      <td>15</td>\n",
       "      <td>1</td>\n",
       "      <td>1</td>\n",
       "      <td>12449868</td>\n",
       "      <td>1</td>\n",
       "      <td>95</td>\n",
       "      <td>Godfred</td>\n",
       "      <td>Gyimah</td>\n",
       "      <td>gsyt7@mst.edu</td>\n",
       "      <td>2017 Forum Dr, Apt G</td>\n",
       "      <td>Rolla</td>\n",
       "      <td>MO</td>\n",
       "      <td>65401</td>\n",
       "      <td>M</td>\n",
       "      <td>2016-08-11 09:20:55</td>\n",
       "      <td>3.5</td>\n",
       "      <td>12449868</td>\n",
       "    </tr>\n",
       "    <tr>\n",
       "      <th>2</th>\n",
       "      <td>2016-08-03</td>\n",
       "      <td>Q</td>\n",
       "      <td>15</td>\n",
       "      <td>1</td>\n",
       "      <td>2</td>\n",
       "      <td>12449868</td>\n",
       "      <td>2</td>\n",
       "      <td>92</td>\n",
       "      <td>Godfred</td>\n",
       "      <td>Gyimah</td>\n",
       "      <td>gsyt7@mst.edu</td>\n",
       "      <td>2017 Forum Dr, Apt G</td>\n",
       "      <td>Rolla</td>\n",
       "      <td>MO</td>\n",
       "      <td>65401</td>\n",
       "      <td>M</td>\n",
       "      <td>2016-08-11 09:20:55</td>\n",
       "      <td>3.5</td>\n",
       "      <td>12449868</td>\n",
       "    </tr>\n",
       "    <tr>\n",
       "      <th>3</th>\n",
       "      <td>2016-08-03</td>\n",
       "      <td>Q</td>\n",
       "      <td>15</td>\n",
       "      <td>1</td>\n",
       "      <td>2</td>\n",
       "      <td>12508338</td>\n",
       "      <td>2</td>\n",
       "      <td>95</td>\n",
       "      <td>Maameyaa</td>\n",
       "      <td>Gyimah</td>\n",
       "      <td>mkayc4@mst.edu</td>\n",
       "      <td>2017 Forum Dr, Apt G</td>\n",
       "      <td>Rolla</td>\n",
       "      <td>MO</td>\n",
       "      <td>65401</td>\n",
       "      <td>F</td>\n",
       "      <td>2016-08-11 07:40:19</td>\n",
       "      <td>2.5</td>\n",
       "      <td>12508338</td>\n",
       "    </tr>\n",
       "    <tr>\n",
       "      <th>4</th>\n",
       "      <td>2016-08-04</td>\n",
       "      <td>T</td>\n",
       "      <td>30</td>\n",
       "      <td>1</td>\n",
       "      <td>3</td>\n",
       "      <td>12449235</td>\n",
       "      <td>3</td>\n",
       "      <td>98</td>\n",
       "      <td>Wedam</td>\n",
       "      <td>Nyaaba</td>\n",
       "      <td>wtnt9@mst.edu</td>\n",
       "      <td>1703 N. Elm St</td>\n",
       "      <td>Rolla</td>\n",
       "      <td>MO</td>\n",
       "      <td>65401</td>\n",
       "      <td>M</td>\n",
       "      <td>2016-08-11 09:37:35</td>\n",
       "      <td>4.5</td>\n",
       "      <td>12449235</td>\n",
       "    </tr>\n",
       "  </tbody>\n",
       "</table>\n",
       "</div>"
      ],
      "text/plain": [
       "           0  1   2   3   4         5   6   7         8       9   \\\n",
       "0  2016-08-02  Q  15   1   1  12449235   1  94     Wedam  Nyaaba   \n",
       "1  2016-08-02  Q  15   1   1  12449868   1  95   Godfred  Gyimah   \n",
       "2  2016-08-03  Q  15   1   2  12449868   2  92   Godfred  Gyimah   \n",
       "3  2016-08-03  Q  15   1   2  12508338   2  95  Maameyaa  Gyimah   \n",
       "4  2016-08-04  T  30   1   3  12449235   3  98     Wedam  Nyaaba   \n",
       "\n",
       "               10                    11     12  13     14 15  \\\n",
       "0   wtnt9@mst.edu        1703 N. Elm St  Rolla  MO  65401  M   \n",
       "1   gsyt7@mst.edu  2017 Forum Dr, Apt G  Rolla  MO  65401  M   \n",
       "2   gsyt7@mst.edu  2017 Forum Dr, Apt G  Rolla  MO  65401  M   \n",
       "3  mkayc4@mst.edu  2017 Forum Dr, Apt G  Rolla  MO  65401  F   \n",
       "4   wtnt9@mst.edu        1703 N. Elm St  Rolla  MO  65401  M   \n",
       "\n",
       "                   16   17        18  \n",
       "0 2016-08-11 09:37:35  4.5  12449235  \n",
       "1 2016-08-11 09:20:55  3.5  12449868  \n",
       "2 2016-08-11 09:20:55  3.5  12449868  \n",
       "3 2016-08-11 07:40:19  2.5  12508338  \n",
       "4 2016-08-11 09:37:35  4.5  12449235  "
      ]
     },
     "execution_count": 10,
     "metadata": {},
     "output_type": "execute_result"
    }
   ],
   "source": [
    "cursor.execute('SELECT *  FROM test, score,student WHERE test.test_id=score.test_id AND score.student_id = student.student_id');\n",
    "rows = cursor.fetchall()\n",
    "df = pd.DataFrame( [[ij for ij in i] for i in rows] )\n",
    "df.head()"
   ]
  },
  {
   "cell_type": "markdown",
   "metadata": {},
   "source": [
    "# Now let's use the actual column names instead of numbers"
   ]
  },
  {
   "cell_type": "code",
   "execution_count": 11,
   "metadata": {
    "collapsed": false
   },
   "outputs": [
    {
     "data": {
      "text/html": [
       "<div>\n",
       "<table border=\"1\" class=\"dataframe\">\n",
       "  <thead>\n",
       "    <tr style=\"text-align: right;\">\n",
       "      <th></th>\n",
       "      <th>Date</th>\n",
       "      <th>Exam Type</th>\n",
       "      <th>Highest Score</th>\n",
       "      <th>Class ID</th>\n",
       "      <th>Exam ID</th>\n",
       "      <th>Student ID</th>\n",
       "      <th>Exam ID</th>\n",
       "      <th>Score</th>\n",
       "      <th>First Name</th>\n",
       "      <th>Last Name</th>\n",
       "      <th>Email</th>\n",
       "      <th>Address</th>\n",
       "      <th>City</th>\n",
       "      <th>State</th>\n",
       "      <th>Zip</th>\n",
       "      <th>Gender</th>\n",
       "      <th>Date Entered</th>\n",
       "      <th>Lunch Cost</th>\n",
       "      <th>Student ID</th>\n",
       "    </tr>\n",
       "  </thead>\n",
       "  <tbody>\n",
       "    <tr>\n",
       "      <th>0</th>\n",
       "      <td>2016-08-02</td>\n",
       "      <td>Q</td>\n",
       "      <td>15</td>\n",
       "      <td>1</td>\n",
       "      <td>1</td>\n",
       "      <td>12449235</td>\n",
       "      <td>1</td>\n",
       "      <td>94</td>\n",
       "      <td>Wedam</td>\n",
       "      <td>Nyaaba</td>\n",
       "      <td>wtnt9@mst.edu</td>\n",
       "      <td>1703 N. Elm St</td>\n",
       "      <td>Rolla</td>\n",
       "      <td>MO</td>\n",
       "      <td>65401</td>\n",
       "      <td>M</td>\n",
       "      <td>2016-08-11 09:37:35</td>\n",
       "      <td>4.5</td>\n",
       "      <td>12449235</td>\n",
       "    </tr>\n",
       "    <tr>\n",
       "      <th>1</th>\n",
       "      <td>2016-08-02</td>\n",
       "      <td>Q</td>\n",
       "      <td>15</td>\n",
       "      <td>1</td>\n",
       "      <td>1</td>\n",
       "      <td>12449868</td>\n",
       "      <td>1</td>\n",
       "      <td>95</td>\n",
       "      <td>Godfred</td>\n",
       "      <td>Gyimah</td>\n",
       "      <td>gsyt7@mst.edu</td>\n",
       "      <td>2017 Forum Dr, Apt G</td>\n",
       "      <td>Rolla</td>\n",
       "      <td>MO</td>\n",
       "      <td>65401</td>\n",
       "      <td>M</td>\n",
       "      <td>2016-08-11 09:20:55</td>\n",
       "      <td>3.5</td>\n",
       "      <td>12449868</td>\n",
       "    </tr>\n",
       "    <tr>\n",
       "      <th>2</th>\n",
       "      <td>2016-08-03</td>\n",
       "      <td>Q</td>\n",
       "      <td>15</td>\n",
       "      <td>1</td>\n",
       "      <td>2</td>\n",
       "      <td>12449868</td>\n",
       "      <td>2</td>\n",
       "      <td>92</td>\n",
       "      <td>Godfred</td>\n",
       "      <td>Gyimah</td>\n",
       "      <td>gsyt7@mst.edu</td>\n",
       "      <td>2017 Forum Dr, Apt G</td>\n",
       "      <td>Rolla</td>\n",
       "      <td>MO</td>\n",
       "      <td>65401</td>\n",
       "      <td>M</td>\n",
       "      <td>2016-08-11 09:20:55</td>\n",
       "      <td>3.5</td>\n",
       "      <td>12449868</td>\n",
       "    </tr>\n",
       "    <tr>\n",
       "      <th>3</th>\n",
       "      <td>2016-08-03</td>\n",
       "      <td>Q</td>\n",
       "      <td>15</td>\n",
       "      <td>1</td>\n",
       "      <td>2</td>\n",
       "      <td>12508338</td>\n",
       "      <td>2</td>\n",
       "      <td>95</td>\n",
       "      <td>Maameyaa</td>\n",
       "      <td>Gyimah</td>\n",
       "      <td>mkayc4@mst.edu</td>\n",
       "      <td>2017 Forum Dr, Apt G</td>\n",
       "      <td>Rolla</td>\n",
       "      <td>MO</td>\n",
       "      <td>65401</td>\n",
       "      <td>F</td>\n",
       "      <td>2016-08-11 07:40:19</td>\n",
       "      <td>2.5</td>\n",
       "      <td>12508338</td>\n",
       "    </tr>\n",
       "    <tr>\n",
       "      <th>4</th>\n",
       "      <td>2016-08-04</td>\n",
       "      <td>T</td>\n",
       "      <td>30</td>\n",
       "      <td>1</td>\n",
       "      <td>3</td>\n",
       "      <td>12449235</td>\n",
       "      <td>3</td>\n",
       "      <td>98</td>\n",
       "      <td>Wedam</td>\n",
       "      <td>Nyaaba</td>\n",
       "      <td>wtnt9@mst.edu</td>\n",
       "      <td>1703 N. Elm St</td>\n",
       "      <td>Rolla</td>\n",
       "      <td>MO</td>\n",
       "      <td>65401</td>\n",
       "      <td>M</td>\n",
       "      <td>2016-08-11 09:37:35</td>\n",
       "      <td>4.5</td>\n",
       "      <td>12449235</td>\n",
       "    </tr>\n",
       "  </tbody>\n",
       "</table>\n",
       "</div>"
      ],
      "text/plain": [
       "         Date Exam Type  Highest Score  Class ID  Exam ID  Student ID  \\\n",
       "0  2016-08-02         Q             15         1        1    12449235   \n",
       "1  2016-08-02         Q             15         1        1    12449868   \n",
       "2  2016-08-03         Q             15         1        2    12449868   \n",
       "3  2016-08-03         Q             15         1        2    12508338   \n",
       "4  2016-08-04         T             30         1        3    12449235   \n",
       "\n",
       "   Exam ID  Score First Name Last Name           Email               Address  \\\n",
       "0        1     94      Wedam    Nyaaba   wtnt9@mst.edu        1703 N. Elm St   \n",
       "1        1     95    Godfred    Gyimah   gsyt7@mst.edu  2017 Forum Dr, Apt G   \n",
       "2        2     92    Godfred    Gyimah   gsyt7@mst.edu  2017 Forum Dr, Apt G   \n",
       "3        2     95   Maameyaa    Gyimah  mkayc4@mst.edu  2017 Forum Dr, Apt G   \n",
       "4        3     98      Wedam    Nyaaba   wtnt9@mst.edu        1703 N. Elm St   \n",
       "\n",
       "    City State    Zip Gender        Date Entered  Lunch Cost  Student ID  \n",
       "0  Rolla    MO  65401      M 2016-08-11 09:37:35         4.5    12449235  \n",
       "1  Rolla    MO  65401      M 2016-08-11 09:20:55         3.5    12449868  \n",
       "2  Rolla    MO  65401      M 2016-08-11 09:20:55         3.5    12449868  \n",
       "3  Rolla    MO  65401      F 2016-08-11 07:40:19         2.5    12508338  \n",
       "4  Rolla    MO  65401      M 2016-08-11 09:37:35         4.5    12449235  "
      ]
     },
     "execution_count": 11,
     "metadata": {},
     "output_type": "execute_result"
    }
   ],
   "source": [
    "cursor.execute('SELECT *  FROM test, score,student WHERE test.test_id=score.test_id AND score.student_id = student.student_id');\n",
    "rows = cursor.fetchall()\n",
    "df = pd.DataFrame( [[ij for ij in i] for i in rows] )\n",
    "df.rename(columns={0: 'Date', 1: 'Exam Type', 2: 'Highest Score', 3: 'Class ID', 4:'Exam ID', 5: 'Student ID', 6: 'Exam ID', 7: 'Score', 8: 'First Name', 9:'Last Name', 10: 'Email', 11: 'Address', 12: 'City', 13: 'State', 14:'Zip', 15: 'Gender', 16: 'Date Entered', 17: 'Lunch Cost', 18: 'Student ID'}, inplace=True);\n",
    "df.head()"
   ]
  }
 ],
 "metadata": {
  "anaconda-cloud": {},
  "kernelspec": {
   "display_name": "Python 2",
   "language": "python",
   "name": "python2"
  },
  "language_info": {
   "codemirror_mode": {
    "name": "ipython",
    "version": 2
   },
   "file_extension": ".py",
   "mimetype": "text/x-python",
   "name": "python",
   "nbconvert_exporter": "python",
   "pygments_lexer": "ipython2",
   "version": "2.7.12"
  }
 },
 "nbformat": 4,
 "nbformat_minor": 0
}
